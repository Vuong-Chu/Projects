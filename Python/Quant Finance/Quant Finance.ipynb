{
 "cells": [
  {
   "cell_type": "markdown",
   "metadata": {},
   "source": [
    "# Option"
   ]
  },
  {
   "cell_type": "markdown",
   "metadata": {},
   "source": [
    "Function to calculate profit/loss of Options"
   ]
  },
  {
   "cell_type": "code",
   "execution_count": 12,
   "metadata": {},
   "outputs": [],
   "source": [
    "def call_option(current_price, strike_price, premium):\n",
    "    result = max(current_price-strike_price-premium,-premium)\n",
    "    if(result!=-premium):\n",
    "        print(\"Execise!\")\n",
    "    else:\n",
    "        print(\"Don't execise\")\n",
    "    print(result)"
   ]
  },
  {
   "cell_type": "markdown",
   "metadata": {},
   "source": [
    "##### EX1: \n",
    "Pt = 150;\n",
    "S = 100;\n",
    "premium = 10"
   ]
  },
  {
   "cell_type": "code",
   "execution_count": 13,
   "metadata": {},
   "outputs": [
    {
     "name": "stdout",
     "output_type": "stream",
     "text": [
      "Execise!\n",
      "40\n"
     ]
    }
   ],
   "source": [
    "call_option(150,100,10)"
   ]
  },
  {
   "cell_type": "code",
   "execution_count": 17,
   "metadata": {},
   "outputs": [],
   "source": [
    "def put_option(current_price, strike_price, premium):\n",
    "    result = max(strike_price-current_price-premium,-premium)\n",
    "    if(result!=-premium):\n",
    "        print(\"Execise!\")\n",
    "    else:\n",
    "        print(\"Don't execise\")\n",
    "    print(result)"
   ]
  },
  {
   "cell_type": "markdown",
   "metadata": {},
   "source": [
    "##### EX2:\n",
    "Pt = 100; S = 150; premium = 10"
   ]
  },
  {
   "cell_type": "code",
   "execution_count": 19,
   "metadata": {},
   "outputs": [
    {
     "name": "stdout",
     "output_type": "stream",
     "text": [
      "Execise!\n",
      "40\n"
     ]
    }
   ],
   "source": [
    "put_option(100, 150, 10)"
   ]
  }
 ],
 "metadata": {
  "kernelspec": {
   "display_name": "Python 3",
   "language": "python",
   "name": "python3"
  },
  "language_info": {
   "codemirror_mode": {
    "name": "ipython",
    "version": 3
   },
   "file_extension": ".py",
   "mimetype": "text/x-python",
   "name": "python",
   "nbconvert_exporter": "python",
   "pygments_lexer": "ipython3",
   "version": "3.8.3"
  }
 },
 "nbformat": 4,
 "nbformat_minor": 4
}
