{
 "cells": [
  {
   "cell_type": "code",
   "execution_count": 1,
   "id": "672695dc-e5cc-4121-8dc0-5c3b2a4a9809",
   "metadata": {},
   "outputs": [],
   "source": [
    "import numpy as np"
   ]
  },
  {
   "cell_type": "code",
   "execution_count": 2,
   "id": "9e3d04a0-b25c-4fe9-b247-bfcb65cdb5c4",
   "metadata": {},
   "outputs": [],
   "source": [
    "#Three layer neural net (One layer neural net contains only a single input layer)\n",
    "\n",
    "num_input = 15\n",
    "num_hidden = 30\n",
    "num_output = 1"
   ]
  },
  {
   "cell_type": "code",
   "execution_count": 3,
   "id": "b25defe5-d1ad-4ce1-bd5a-790f08a06d32",
   "metadata": {},
   "outputs": [],
   "source": [
    "#Data to test\n",
    "\n",
    "np.random.seed(42)\n",
    "input = np.random.normal(10, 3, num_input)\n",
    "input[:7] += 3\n",
    "output = [1]*7+[0]*8"
   ]
  },
  {
   "cell_type": "code",
   "execution_count": 5,
   "id": "cd72af63-01ae-4bbc-b191-d30d7782ddc1",
   "metadata": {},
   "outputs": [],
   "source": [
    "# Initialize weights and biases from input to hidden layer\n",
    "\n",
    "W_i_h = np.random.randn(num_input, num_hidden)\n",
    "b_i_h = np.random.randn(1, num_hidden)\n",
    "\n",
    "# Initialize weights and biases from input to hidden layer\n",
    "\n",
    "W_h_o = np.random.randn(num_hidden, num_output)\n",
    "b_h_o = np.random.randn(1, num_output)"
   ]
  },
  {
   "cell_type": "code",
   "execution_count": 6,
   "id": "1fb24eee-96c3-422e-a89f-a9f470b11fe1",
   "metadata": {},
   "outputs": [],
   "source": [
    "def sigmoid(z):\n",
    "    return 1/(1+np.exp(-z))\n",
    "\n",
    "def d_sigmoid(z):\n",
    "    return np.exp(-z) / ((1 + np.exp(-z)) ** 2)\n",
    "\n",
    "\n",
    "def relu(z):\n",
    "    return np.maximum(0,z)\n",
    "\n",
    "def d_relu(z):\n",
    "    z[z>0]=1\n",
    "    z[z<=0]=0\n",
    "    return z"
   ]
  }
 ],
 "metadata": {
  "kernelspec": {
   "display_name": "Python 3 (ipykernel)",
   "language": "python",
   "name": "python3"
  },
  "language_info": {
   "codemirror_mode": {
    "name": "ipython",
    "version": 3
   },
   "file_extension": ".py",
   "mimetype": "text/x-python",
   "name": "python",
   "nbconvert_exporter": "python",
   "pygments_lexer": "ipython3",
   "version": "3.10.6"
  }
 },
 "nbformat": 4,
 "nbformat_minor": 5
}
