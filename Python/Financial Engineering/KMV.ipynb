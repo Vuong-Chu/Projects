{
 "cells": [
  {
   "cell_type": "code",
   "execution_count": 1,
   "id": "0a233974-08c1-4de1-9fa0-93de45d1b1b8",
   "metadata": {},
   "outputs": [],
   "source": [
    "import numpy as np\n",
    "import scipy as sp\n",
    "import math"
   ]
  },
  {
   "cell_type": "markdown",
   "id": "3722fc20-dbf0-4951-89c3-5076d7e82574",
   "metadata": {},
   "source": [
    "__KMV__\n",
    "\n",
    "$$\n",
    "\\begin{align}\n",
    "& E = \\max(A-D, 0)\\\\ \n",
    "& A = A_0 \\exp((r - \\frac{\\sigma_A^2}{2})T) + \\sigma_A\\sqrt{T}Z_t \\ \\text{ where } Z_t \\sim N(0,1)\n",
    "\\end{align}\n",
    "$$"
   ]
  },
  {
   "cell_type": "code",
   "execution_count": 2,
   "id": "cf080cfa-2587-4432-8fc6-a4ec0524f9bb",
   "metadata": {},
   "outputs": [
    {
     "name": "stdout",
     "output_type": "stream",
     "text": [
      "Market value of total assets is 70.5\n",
      "Volatility of total assets is 0.4\n"
     ]
    }
   ],
   "source": [
    "E = 70 #Equity\n",
    "D = 30 #Debt\n",
    "T = 1 #Maturity\n",
    "rf = 0.7 #Risk free rate\n",
    "sigmaE = 0.4 #Volatility of Equity\n",
    "\n",
    "def N(x):\n",
    "    return sp.stats.norm.cdf(x)\n",
    "\n",
    "def KMV(x):\n",
    "    A = x[0] \n",
    "    sigmaA = x[1]\n",
    "    d1 = (np.log(A/D) + (rf + 0.5*sigmaA**2)*T)/(sigmaA*np.sqrt(T))\n",
    "    d2 = d1 - sigmaA * np.sqrt(T)\n",
    "    est_E = A*N(d1) - np.exp(-rf*T)*N(d2)\n",
    "    est_sigmaE = A/E * N(d1) * sigmaA\n",
    "    return np.abs(est_E - E) + np.abs(est_sigmaE - sigmaE)\n",
    "\n",
    "x = [65.0, 0.3]\n",
    "\n",
    "cons = [{'type':'ineq', 'fun': lambda x : x[0]},\n",
    "        {'type':'ineq', 'fun': lambda x : x[1]}]\n",
    "\n",
    "sol = sp.optimize.minimize(KMV, x, constraints=cons, method=\"SLSQP\", tol=1e-12)\n",
    "\n",
    "print(\"Market value of total assets is {}\".format(round(sol['x'][0], 2)))\n",
    "print(\"Volatility of total assets is {}\".format(round(sol['x'][1], 2)))"
   ]
  }
 ],
 "metadata": {
  "kernelspec": {
   "display_name": "Python 3 (ipykernel)",
   "language": "python",
   "name": "python3"
  },
  "language_info": {
   "codemirror_mode": {
    "name": "ipython",
    "version": 3
   },
   "file_extension": ".py",
   "mimetype": "text/x-python",
   "name": "python",
   "nbconvert_exporter": "python",
   "pygments_lexer": "ipython3",
   "version": "3.10.6"
  }
 },
 "nbformat": 4,
 "nbformat_minor": 5
}
