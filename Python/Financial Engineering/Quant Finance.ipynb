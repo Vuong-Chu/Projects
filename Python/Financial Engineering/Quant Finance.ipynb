{
 "cells": [
  {
   "cell_type": "markdown",
   "metadata": {},
   "source": [
    "# Option"
   ]
  },
  {
   "cell_type": "code",
   "execution_count": 1,
   "metadata": {},
   "outputs": [],
   "source": [
    "import numpy as np;\n",
    "import scipy as sc;\n",
    "from matplotlib import pyplot as plt\n",
    "import math;\n",
    "%matplotlib inline"
   ]
  },
  {
   "cell_type": "markdown",
   "metadata": {},
   "source": [
    "#### Function to calculate profit/loss of Options"
   ]
  },
  {
   "cell_type": "code",
   "execution_count": 2,
   "metadata": {},
   "outputs": [],
   "source": [
    "def call_option(current_price, strike_price, premium):\n",
    "    result = max(current_price-strike_price-premium,-premium)\n",
    "    if(result!=-premium):\n",
    "        print(\"Execise!\")\n",
    "    else:\n",
    "        print(\"Don't execise\")\n",
    "    return result"
   ]
  },
  {
   "cell_type": "markdown",
   "metadata": {},
   "source": [
    "##### Example 1: \n",
    "Pt = 150;\n",
    "\n",
    "S = 100;\n",
    "\n",
    "premium = 10"
   ]
  },
  {
   "cell_type": "code",
   "execution_count": 3,
   "metadata": {},
   "outputs": [
    {
     "name": "stdout",
     "output_type": "stream",
     "text": [
      "Execise!\n"
     ]
    },
    {
     "data": {
      "text/plain": [
       "40"
      ]
     },
     "execution_count": 3,
     "metadata": {},
     "output_type": "execute_result"
    }
   ],
   "source": [
    "call_option(150,100,10)"
   ]
  },
  {
   "cell_type": "code",
   "execution_count": 4,
   "metadata": {},
   "outputs": [],
   "source": [
    "def put_option(current_price, strike_price, premium):\n",
    "    result = max(strike_price-current_price-premium,-premium)\n",
    "    if(result!=-premium):\n",
    "        print(\"Execise!\")\n",
    "    else:\n",
    "        print(\"Don't execise\")\n",
    "    return result"
   ]
  },
  {
   "cell_type": "markdown",
   "metadata": {},
   "source": [
    "##### Example 2:\n",
    "Pt = 100; \n",
    "\n",
    "S = 150; \n",
    "\n",
    "premium = 10"
   ]
  },
  {
   "cell_type": "code",
   "execution_count": 5,
   "metadata": {},
   "outputs": [
    {
     "name": "stdout",
     "output_type": "stream",
     "text": [
      "Execise!\n"
     ]
    },
    {
     "data": {
      "text/plain": [
       "40"
      ]
     },
     "execution_count": 5,
     "metadata": {},
     "output_type": "execute_result"
    }
   ],
   "source": [
    "put_option(100, 150, 10)"
   ]
  },
  {
   "cell_type": "code",
   "execution_count": 6,
   "metadata": {},
   "outputs": [],
   "source": [
    "def call_put_parity(call_price, put_price, current_stock_price, strike_price, time, risk_free_rate, *dividend):\n",
    "    if(not dividend):\n",
    "        result = call_price + strike_price*math.exp(risk_free_rate*time)-(current_stock_price + put_price)\n",
    "    else:\n",
    "        result = call_price + strike_price*math.exp(risk_free_rate*time)+dividend[0]-(current_stock_price + put_price)\n",
    "        \n",
    "    if(result!=0):\n",
    "        print(\"No abitrage!\")\n",
    "    else:\n",
    "        print(\"Abitrage!\")\n",
    "    return math.fabs(result)"
   ]
  },
  {
   "cell_type": "markdown",
   "metadata": {},
   "source": [
    "### Option Strategies"
   ]
  },
  {
   "cell_type": "code",
   "execution_count": 7,
   "metadata": {
    "scrolled": true
   },
   "outputs": [
    {
     "name": "stderr",
     "output_type": "stream",
     "text": [
      "/tmp/ipykernel_13992/1841128429.py:43: UserWarning: Matplotlib is currently using module://matplotlib_inline.backend_inline, which is a non-GUI backend, so cannot show the figure.\n",
      "  fig1.show()\n"
     ]
    },
    {
     "data": {
      "image/png": "[encoded data removed]",
      "text/plain": [
       "<Figure size 1440x864 with 2 Axes>"
      ]
     },
     "metadata": {
      "needs_background": "light"
     },
     "output_type": "display_data"
    }
   ],
   "source": [
    "\"\"\"\n",
    "1. Bull Spread\n",
    "+ Hold 1 call option with strike price E1\n",
    "+ Write 1 call option with strike price E3 (E3 > E1)\n",
    "\n",
    "2. Bull Butterfly Spread\n",
    "+ Hold 2 call options with strike prices E1, E3 (E3 > E1)\n",
    "+ Write 2 call options with the strike price E2 = (E1+E3)/2\n",
    "\"\"\"\n",
    "cost = 5\n",
    "E1 = 60\n",
    "E3 = 100\n",
    "E2 = (E1+E3)/2\n",
    "St = np.linspace(0,150,200)\n",
    "N = np.size(St)\n",
    "y1 = np.maximum(np.zeros(N),St-E1) + np.maximum(np.zeros(N),St-E3) - 2*cost\n",
    "y2 = 2*(-np.maximum(np.zeros(N),St-E2) + cost)\n",
    "\n",
    "payoff1 = np.maximum(np.zeros(N),St-E1) - np.maximum(np.zeros(N),St-E3) - cost + cost\n",
    "\n",
    "payoff2 = y1 + y2\n",
    "\n",
    "fig1 = plt.figure(figsize=(20,12))\n",
    "plt.subplots_adjust(hspace = 0.5, wspace = 0.1)\n",
    "\n",
    "ax1 = plt.subplot(2,2,1)\n",
    "ax1.plot(St,payoff1)\n",
    "ax1.yaxis.set_ticks(np.arange(int(min(payoff1)-1),int(max(payoff1+2)),3)) #Change y tick\n",
    "ax1.spines['left'].set_position(('data', 0))\n",
    "ax1.spines['bottom'].set_position(('data', 0))\n",
    "ax1.spines['top'].set_visible(False)\n",
    "ax1.spines['right'].set_visible(False)\n",
    "ax1.set_title(\"Bull Call Spread\",fontsize = 14, fontweight = \"bold\")\n",
    "\n",
    "ax2 = plt.subplot(2,2,2)\n",
    "ax2.plot(St,payoff2)\n",
    "ax2.yaxis.set_ticks(np.arange(int(min(payoff2)),int(max(payoff2))+2,2)) #Change y tick\n",
    "ax2.spines['left'].set_position(('data', 0))\n",
    "ax2.spines['bottom'].set_position(('data', 0))\n",
    "ax2.spines['top'].set_visible(False)\n",
    "ax2.spines['right'].set_visible(False)\n",
    "ax2.set_title(\"Bull Butterfly Spread\",fontsize = 14, fontweight = \"bold\")\n",
    "fig1.show()"
   ]
  },
  {
   "cell_type": "code",
   "execution_count": 8,
   "metadata": {},
   "outputs": [
    {
     "name": "stderr",
     "output_type": "stream",
     "text": [
      "/tmp/ipykernel_13992/3075948835.py:45: UserWarning: Matplotlib is currently using module://matplotlib_inline.backend_inline, which is a non-GUI backend, so cannot show the figure.\n",
      "  fig1.show()\n"
     ]
    },
    {
     "data": {
      "image/png": "[encoded data removed]",
      "text/plain": [
       "<Figure size 1440x864 with 2 Axes>"
      ]
     },
     "metadata": {
      "needs_background": "light"
     },
     "output_type": "display_data"
    }
   ],
   "source": [
    "\"\"\"\n",
    "1. Bear Spread\n",
    "+ Write 1 put option with strike price E1\n",
    "+ Hold 1 put option with strike price E3 (E3 > E1)\n",
    "\n",
    "2. Bull Butterfly Spread\n",
    "+ Write 2 put options with strike prices E1, E3 (E3 > E1)\n",
    "+ Hold 2 put options with the strike price E2 = (E1+E3)/2\n",
    "\"\"\"\n",
    "\n",
    "cost = 5\n",
    "E1 = 60\n",
    "E3 = 100\n",
    "E2 = (E1+E3)/2\n",
    "St = np.linspace(0,150,200)\n",
    "N = np.size(St)\n",
    "y1 = np.maximum(np.zeros(N),E1-St) + np.maximum(np.zeros(N),E3-St) - 2*cost\n",
    "y2 = 2*(-np.maximum(np.zeros(N),E2-St) + cost)\n",
    "\n",
    "payoff1 = - np.maximum(np.zeros(N),E1-St) + np.maximum(np.zeros(N),E3-St) + cost - cost\n",
    "\n",
    "payoff2 = - y1 - y2\n",
    "\n",
    "fig1 = plt.figure(figsize=(20,12))\n",
    "plt.subplots_adjust(hspace = 0.5, wspace = 0.1)\n",
    "\n",
    "ax1 = plt.subplot(2,2,3)\n",
    "ax1.plot(St,payoff1)\n",
    "ax1.yaxis.set_ticks(np.arange(int(min(payoff1))-1,int(max(payoff1))+2,3)) #Change y tick\n",
    "ax1.spines['left'].set_position(('data', 0))\n",
    "ax1.spines['bottom'].set_position(('data', 0))\n",
    "ax1.spines['top'].set_visible(False)\n",
    "ax1.spines['right'].set_visible(False)\n",
    "ax1.set_title(\"Bear Spread\",fontsize = 14, fontweight = \"bold\")\n",
    "\n",
    "ax2 = plt.subplot(2,2,4)\n",
    "ax2.plot(St,payoff2)\n",
    "ax2.yaxis.set_ticks(np.arange(int(min(payoff2))-2,int(max(payoff2))+2,3)) #Change y tick\n",
    "ax2.spines['left'].set_position(('data', 0))\n",
    "ax2.spines['bottom'].set_position(('data', 0))\n",
    "ax2.spines['top'].set_visible(False)\n",
    "ax2.spines['right'].set_visible(False)\n",
    "ax2.set_title(\"Bear Butterfly Spread\",fontsize = 14, fontweight = \"bold\")\n",
    "\n",
    "fig1.show()"
   ]
  },
  {
   "cell_type": "markdown",
   "metadata": {},
   "source": [
    "#### Black-Scholes model\n",
    "\n",
    "**Inputs**\n",
    "\n",
    "+ Strike price of the option\n",
    "\n",
    "+ Price of the underlying\n",
    "\n",
    "+ Time until expiration\n",
    "\n",
    "+ Short-term interest rate\n",
    "\n",
    "+ Dividends\n",
    "\n",
    "+ Volatilities (Historical or Implied)"
   ]
  },
  {
   "cell_type": "code",
   "execution_count": 17,
   "metadata": {},
   "outputs": [
    {
     "data": {
      "text/html": [
       "<div>\n",
       "<style scoped>\n",
       "    .dataframe tbody tr th:only-of-type {\n",
       "        vertical-align: middle;\n",
       "    }\n",
       "\n",
       "    .dataframe tbody tr th {\n",
       "        vertical-align: top;\n",
       "    }\n",
       "\n",
       "    .dataframe thead th {\n",
       "        text-align: right;\n",
       "    }\n",
       "</style>\n",
       "<table border=\"1\" class=\"dataframe\">\n",
       "  <thead>\n",
       "    <tr style=\"text-align: right;\">\n",
       "      <th></th>\n",
       "      <th>AAPL</th>\n",
       "      <th>Volume</th>\n",
       "    </tr>\n",
       "    <tr>\n",
       "      <th>Date</th>\n",
       "      <th></th>\n",
       "      <th></th>\n",
       "    </tr>\n",
       "  </thead>\n",
       "  <tbody>\n",
       "    <tr>\n",
       "      <th>2020-03-31</th>\n",
       "      <td>62.710781</td>\n",
       "      <td>197002000</td>\n",
       "    </tr>\n",
       "    <tr>\n",
       "      <th>2020-04-01</th>\n",
       "      <td>59.411125</td>\n",
       "      <td>176218400</td>\n",
       "    </tr>\n",
       "    <tr>\n",
       "      <th>2020-04-02</th>\n",
       "      <td>60.402500</td>\n",
       "      <td>165934000</td>\n",
       "    </tr>\n",
       "    <tr>\n",
       "      <th>2020-04-03</th>\n",
       "      <td>59.534428</td>\n",
       "      <td>129880000</td>\n",
       "    </tr>\n",
       "    <tr>\n",
       "      <th>2020-04-06</th>\n",
       "      <td>64.728065</td>\n",
       "      <td>201820400</td>\n",
       "    </tr>\n",
       "    <tr>\n",
       "      <th>...</th>\n",
       "      <td>...</td>\n",
       "      <td>...</td>\n",
       "    </tr>\n",
       "    <tr>\n",
       "      <th>2020-12-23</th>\n",
       "      <td>129.992004</td>\n",
       "      <td>88223700</td>\n",
       "    </tr>\n",
       "    <tr>\n",
       "      <th>2020-12-24</th>\n",
       "      <td>130.994507</td>\n",
       "      <td>54930100</td>\n",
       "    </tr>\n",
       "    <tr>\n",
       "      <th>2020-12-28</th>\n",
       "      <td>135.679642</td>\n",
       "      <td>124486200</td>\n",
       "    </tr>\n",
       "    <tr>\n",
       "      <th>2020-12-29</th>\n",
       "      <td>133.873093</td>\n",
       "      <td>121047300</td>\n",
       "    </tr>\n",
       "    <tr>\n",
       "      <th>2020-12-30</th>\n",
       "      <td>132.731598</td>\n",
       "      <td>96452100</td>\n",
       "    </tr>\n",
       "  </tbody>\n",
       "</table>\n",
       "<p>191 rows × 2 columns</p>\n",
       "</div>"
      ],
      "text/plain": [
       "                  AAPL     Volume\n",
       "Date                             \n",
       "2020-03-31   62.710781  197002000\n",
       "2020-04-01   59.411125  176218400\n",
       "2020-04-02   60.402500  165934000\n",
       "2020-04-03   59.534428  129880000\n",
       "2020-04-06   64.728065  201820400\n",
       "...                ...        ...\n",
       "2020-12-23  129.992004   88223700\n",
       "2020-12-24  130.994507   54930100\n",
       "2020-12-28  135.679642  124486200\n",
       "2020-12-29  133.873093  121047300\n",
       "2020-12-30  132.731598   96452100\n",
       "\n",
       "[191 rows x 2 columns]"
      ]
     },
     "execution_count": 17,
     "metadata": {},
     "output_type": "execute_result"
    }
   ],
   "source": [
    "import yfinance as yf\n",
    "import math\n",
    "asset = yf.Ticker(\"AAPL\")\n",
    "hist_P = asset.history(start=\"2020-04-01\", end=\"2020-12-31\")\n",
    "hist_P = hist_P[[\"Close\",\"Volume\"]]\n",
    "hist_P.rename(columns={'Close': \"AAPL\"}, inplace=True)\n",
    "hist_P"
   ]
  },
  {
   "cell_type": "markdown",
   "metadata": {},
   "source": [
    "__Roll's spread measure__\n",
    "$$\n",
    "s = 2*\\sqrt{-cov(\\Delta p_t,\\Delta p_{t-1})}\n",
    "$$"
   ]
  },
  {
   "cell_type": "code",
   "execution_count": 18,
   "metadata": {},
   "outputs": [],
   "source": [
    "#Roll's spread measure\n",
    "delta_P = hist_btc['AAPL'] - hist_btc['AAPL'].shift(1)\n",
    "delta_P = delta_P.dropna()\n",
    "delta_P = delta_P.to_numpy()"
   ]
  },
  {
   "cell_type": "code",
   "execution_count": 20,
   "metadata": {},
   "outputs": [
    {
     "name": "stdout",
     "output_type": "stream",
     "text": [
      "1.564354908877578\n"
     ]
    }
   ],
   "source": [
    "cov = np.cov(delta_P[1:],delta_P[:-1])[0,1]\n",
    "if cov < 0:\n",
    "    print(2*math.sqrt(-cov))\n",
    "else:\n",
    "    print(2*math.sqrt(cov))"
   ]
  },
  {
   "cell_type": "markdown",
   "metadata": {},
   "source": [
    "__Amihud's illiquidity measure__\n",
    "$$\n",
    "illd = \\frac{1}{n}\\sum_{t=1}^n \\frac{|R_t|}{p_t*vol_t}\n",
    "$$"
   ]
  },
  {
   "cell_type": "code",
   "execution_count": 33,
   "metadata": {},
   "outputs": [
    {
     "data": {
      "text/plain": [
       "1.2298717418251086e-12"
      ]
     },
     "execution_count": 33,
     "metadata": {},
     "output_type": "execute_result"
    }
   ],
   "source": [
    "#Amihud's illiquidity measure\n",
    "return_t = hist_P['AAPL']/hist_P['AAPL'].shift(1) - 1\n",
    "dolar_vol =  hist_P['AAPL']* hist_P['Volume']\n",
    "return_t.dropna(inplace=True)\n",
    "np.sum(np.abs(return_t)/dolar_vol)/return_t.shape[0]"
   ]
  },
  {
   "cell_type": "markdown",
   "metadata": {},
   "source": [
    "__Pastor and Stambaugh's liquidity measure__"
   ]
  },
  {
   "cell_type": "code",
   "execution_count": 34,
   "metadata": {},
   "outputs": [],
   "source": [
    "#Pastor and Stambaugh's liquidity measure"
   ]
  }
 ],
 "metadata": {
  "kernelspec": {
   "display_name": "Python 3 (ipykernel)",
   "language": "python",
   "name": "python3"
  },
  "language_info": {
   "codemirror_mode": {
    "name": "ipython",
    "version": 3
   },
   "file_extension": ".py",
   "mimetype": "text/x-python",
   "name": "python",
   "nbconvert_exporter": "python",
   "pygments_lexer": "ipython3",
   "version": "3.8.12"
  }
 },
 "nbformat": 4,
 "nbformat_minor": 4
}
