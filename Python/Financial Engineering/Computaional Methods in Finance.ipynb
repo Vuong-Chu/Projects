{
 "cells": [
  {
   "cell_type": "markdown",
   "id": "76c4e15b-cfac-47ce-aebb-01aee3bd640a",
   "metadata": {},
   "source": [
    "# PRICING"
   ]
  },
  {
   "cell_type": "markdown",
   "id": "c0639e3d-1e8e-43be-bf59-f37553973325",
   "metadata": {},
   "source": [
    "## Transform Techniques"
   ]
  },
  {
   "cell_type": "markdown",
   "id": "0873cf05-96c0-49fe-875d-b714aa656b36",
   "metadata": {},
   "source": [
    "### Fast Fourier Transform"
   ]
  },
  {
   "cell_type": "markdown",
   "id": "6e4b5c6e-a556-4c50-99ec-f54f062241b3",
   "metadata": {},
   "source": [
    "### Fractional Fast Fourier Transform"
   ]
  },
  {
   "cell_type": "markdown",
   "id": "95669347-ce26-49d5-901f-b2ea5e9bc5ab",
   "metadata": {},
   "source": [
    "### Fourier-Cosine (COS) Method"
   ]
  },
  {
   "cell_type": "markdown",
   "id": "a80710f6-20c2-4c21-bc67-effc8022dd79",
   "metadata": {},
   "source": [
    "### Saddlepoint Method"
   ]
  },
  {
   "cell_type": "markdown",
   "id": "c3198c2c-9476-41c8-aa64-70fdcce50c84",
   "metadata": {},
   "source": [
    "# Numerical solutions of PDE"
   ]
  },
  {
   "cell_type": "markdown",
   "id": "a61fa6ac-c883-4f38-9c8a-74dbca417106",
   "metadata": {},
   "source": [
    "### Generalized Black-Scholes PDE"
   ]
  },
  {
   "cell_type": "markdown",
   "id": "70325fe4-f3b1-43c5-af7c-c679dd66e216",
   "metadata": {},
   "source": [
    "### Path-Dependent"
   ]
  },
  {
   "cell_type": "markdown",
   "id": "d08765c8-d7fb-43eb-abae-92594b5ec85a",
   "metadata": {},
   "source": [
    "### High Dimensions"
   ]
  },
  {
   "cell_type": "markdown",
   "id": "91896533-e21d-4b77-a476-fa64eb1319e5",
   "metadata": {},
   "source": [
    "# Numerical solutions of PIDE"
   ]
  },
  {
   "cell_type": "markdown",
   "id": "4f24c717-9392-4f51-9a3e-9494eadcf74c",
   "metadata": {},
   "source": [
    "# Simulation"
   ]
  },
  {
   "cell_type": "markdown",
   "id": "7a7a1714-cff7-4358-b01b-de7f04b5d3b1",
   "metadata": {},
   "source": [
    "### Random Number Generation"
   ]
  },
  {
   "cell_type": "markdown",
   "id": "c863ebf4-6318-4649-a1ab-c197e1435cef",
   "metadata": {},
   "source": [
    "### Samples from Distribution"
   ]
  },
  {
   "cell_type": "markdown",
   "id": "11f40748-f8dc-4815-acfd-0a297aa3bc78",
   "metadata": {},
   "source": [
    "### Models of Dependence"
   ]
  },
  {
   "cell_type": "markdown",
   "id": "019da459-1c4a-42c9-af7b-8231bd618464",
   "metadata": {},
   "source": [
    "### Variance Reduction Techniques"
   ]
  },
  {
   "cell_type": "markdown",
   "id": "fba29c03-8f30-4f73-a07c-aaa9fbf69b53",
   "metadata": {},
   "source": [
    "# CALIBRATION and ESTIMATION"
   ]
  },
  {
   "cell_type": "markdown",
   "id": "36c1fe96-86d3-4382-882f-b84c208e6c80",
   "metadata": {},
   "source": [
    "## Model Calibration"
   ]
  },
  {
   "cell_type": "markdown",
   "id": "9af9c9b5-0e39-4139-abfc-b50ad00f9eb4",
   "metadata": {},
   "source": [
    "## Filtering and Parameter Estimation"
   ]
  }
 ],
 "metadata": {
  "kernelspec": {
   "display_name": "Python 3 (ipykernel)",
   "language": "python",
   "name": "python3"
  },
  "language_info": {
   "codemirror_mode": {
    "name": "ipython",
    "version": 3
   },
   "file_extension": ".py",
   "mimetype": "text/x-python",
   "name": "python",
   "nbconvert_exporter": "python",
   "pygments_lexer": "ipython3",
   "version": "3.10.10"
  }
 },
 "nbformat": 4,
 "nbformat_minor": 5
}
